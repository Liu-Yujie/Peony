{
 "cells": [
  {
   "cell_type": "code",
   "execution_count": 24,
   "metadata": {
    "collapsed": true
   },
   "outputs": [],
   "source": [
    "\"\"\"\n",
    "INSERT INTO sys_dict\n",
    "(`type`, description, create_time, update_time, remarks, `system`, del_flag, tenant_id)\n",
    "VALUES('equity_exchange_type', '权益兑换方式', CURRENT_TIMESTAMP, CURRENT_TIMESTAMP, '0-现金兑换,1-积分兑换,2-现金积分组合兑换', '0', '0', 1);\n",
    "\n",
    "\n",
    "INSERT INTO sys_dict_item\n",
    "(dict_id, value, label, `type`, description, sort, create_time, update_time, remarks, del_flag, tenant_id)\n",
    "VALUES((select id from sys_dict sd where sd.`type` ='equity_exchange_type'), '0', '现金兑换', 'equity_exchange_type', '现金兑换', 5, CURRENT_TIMESTAMP, CURRENT_TIMESTAMP, '', '0', 1);\n",
    "\n",
    "\"\"\"\n",
    "del_dict_sql = \"delete from sys_dict where `type` = '%s';\"\n",
    "del_dict_item_sql = \"delete from sys_dict_item where `type` = '%s';\"\n",
    "\n",
    "insert_dict_sql = \"\"\"\n",
    "INSERT INTO sys_dict\n",
    "(`type`, description, create_time, update_time, remarks, `system`, del_flag, tenant_id)\n",
    "VALUES('%s', '%s', CURRENT_TIMESTAMP, CURRENT_TIMESTAMP, '%s', '0', '0', 1);\n",
    "\"\"\"\n",
    "\n",
    "insert_dict_item_sql = \"\"\"\n",
    "INSERT INTO sys_dict_item\n",
    "(dict_id, value, label, `type`, description, sort, create_time, update_time, remarks, del_flag, tenant_id)\n",
    "VALUES((select id from sys_dict sd where sd.`type` ='%s'), '%s', '%s', '%s', '%s', %s, CURRENT_TIMESTAMP, CURRENT_TIMESTAMP, '', '0', 1);\n",
    "\"\"\"\n",
    "def printDictSql(key, label, values, single_sep ='-', part_sep=','):\n",
    "    \"\"\"\n",
    "\n",
    "    :param label:\n",
    "    :param part_sep:\n",
    "    :param single_sep:\n",
    "    :param key: equity_exchange_type\n",
    "    :param values: 0-现金兑换,1-积分兑换,2-现金积分组合兑换\n",
    "    :return: null\n",
    "    \"\"\"\n",
    "    print(del_dict_sql % key)\n",
    "    print(del_dict_item_sql % key)\n",
    "    print(insert_dict_sql % (key, label,values))\n",
    "    partLst = values.split(part_sep)\n",
    "    for i in range(0,len(partLst)):\n",
    "        single = partLst[i].split(single_sep)\n",
    "        print(insert_dict_item_sql % (key,int(single[0]),single[1],key,single[1],5*(i+1)))\n"
   ]
  },
  {
   "cell_type": "code",
   "execution_count": 28,
   "outputs": [
    {
     "name": "stdout",
     "output_type": "stream",
     "text": [
      "delete from sys_dict where `type` = 'equity_service_code';\n",
      "delete from sys_dict_item where `type` = 'equity_service_code';\n",
      "\n",
      "INSERT INTO sys_dict\n",
      "(`type`, description, create_time, update_time, remarks, `system`, del_flag, tenant_id)\n",
      "VALUES('equity_service_code', '权益服务代码', CURRENT_TIMESTAMP, CURRENT_TIMESTAMP, '01-月卡,02-季卡,03-年卡', '0', '0', 1);\n",
      "\n",
      "\n",
      "INSERT INTO sys_dict_item\n",
      "(dict_id, value, label, `type`, description, sort, create_time, update_time, remarks, del_flag, tenant_id)\n",
      "VALUES((select id from sys_dict sd where sd.`type` ='equity_service_code'), '1', '月卡', 'equity_service_code', '月卡', 5, CURRENT_TIMESTAMP, CURRENT_TIMESTAMP, '', '0', 1);\n",
      "\n",
      "\n",
      "INSERT INTO sys_dict_item\n",
      "(dict_id, value, label, `type`, description, sort, create_time, update_time, remarks, del_flag, tenant_id)\n",
      "VALUES((select id from sys_dict sd where sd.`type` ='equity_service_code'), '2', '季卡', 'equity_service_code', '季卡', 10, CURRENT_TIMESTAMP, CURRENT_TIMESTAMP, '', '0', 1);\n",
      "\n",
      "\n",
      "INSERT INTO sys_dict_item\n",
      "(dict_id, value, label, `type`, description, sort, create_time, update_time, remarks, del_flag, tenant_id)\n",
      "VALUES((select id from sys_dict sd where sd.`type` ='equity_service_code'), '3', '年卡', 'equity_service_code', '年卡', 15, CURRENT_TIMESTAMP, CURRENT_TIMESTAMP, '', '0', 1);\n",
      "\n"
     ]
    }
   ],
   "source": [
    "# printDictSql('equity_exchange_type','权益兑换方式','0-现金兑换,1-积分兑换,2-现金积分组合兑换')\n",
    "# printDictSql('equity_write_off_type','权益核销方式','0-领用核销,1-充值核销,2-线下使用核销,3-过期核销')\n",
    "# printDictSql('equity_coupon_display_type','权益券码展示方式','0-二维码,1-条形码,2-字符串')\n",
    "printDictSql('equity_service_code','权益服务代码','01-月卡,02-季卡,03-年卡')\n"
   ],
   "metadata": {
    "collapsed": false,
    "pycharm": {
     "name": "#%%\n"
    }
   }
  },
  {
   "cell_type": "code",
   "execution_count": null,
   "outputs": [],
   "source": [],
   "metadata": {
    "collapsed": false,
    "pycharm": {
     "name": "#%%\n"
    }
   }
  }
 ],
 "metadata": {
  "kernelspec": {
   "display_name": "Python 3",
   "language": "python",
   "name": "python3"
  },
  "language_info": {
   "codemirror_mode": {
    "name": "ipython",
    "version": 2
   },
   "file_extension": ".py",
   "mimetype": "text/x-python",
   "name": "python",
   "nbconvert_exporter": "python",
   "pygments_lexer": "ipython2",
   "version": "2.7.6"
  }
 },
 "nbformat": 4,
 "nbformat_minor": 0
}