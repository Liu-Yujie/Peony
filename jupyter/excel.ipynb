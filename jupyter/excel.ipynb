{
 "cells": [
  {
   "cell_type": "code",
   "execution_count": 4,
   "metadata": {
    "collapsed": true
   },
   "outputs": [],
   "source": [
    "import openpyxl\n",
    "import pandas as pd\n",
    "\n",
    "filePath = r'D:\\doc\\work\\equity\\外部权益(2).xlsx'\n",
    "\n",
    "pd.set_option('display.max_columns', None)   #显示完整的列\n",
    "pd.set_option('display.max_rows', None) \t #显示完整的行\n",
    "\n",
    "def generateJsonSec():\n",
    "    wb = openpyxl.load_workbook(filePath)\n",
    "    sheetList = wb.sheetnames\n",
    "    for item in sheetList[1:5]:\n",
    "        sheet = wb[item]\n",
    "        cells = sheet['b5':'e15']\n",
    "        for c1,c2 in cells:\n",
    "            print(c1,c2)\n",
    "    # wb.save('test.xlsx')\n",
    "\n",
    "\n"
   ]
  },
  {
   "cell_type": "code",
   "execution_count": 5,
   "outputs": [
    {
     "name": "stdout",
     "output_type": "stream",
     "text": [
      "                    字段名称     字段描述\n",
      "0                     ID     权益编号\n",
      "1                   NAME     权益名称\n",
      "2           ABBREVIATION     权益简称\n",
      "3                CATALOG     权益目录\n",
      "4                   TYPE     权益类型\n",
      "5                  BRAND     权益品牌\n",
      "6           MAIN_PICTURE     权益主图\n",
      "7         DETAIL_PICTURE    权益详情图\n",
      "8                   ICON     权益图标\n",
      "9          VOUCHERS_TYPE   码券显示方式\n",
      "10          SERVICE_CODE   权益服务代码\n",
      "11      RULE_DESCRIPTION     规则说明\n",
      "12        ORIGINAL_PRICE   权益产品原价\n",
      "13         EXCHANGE_TYPE     兑换方式\n",
      "14       EXCHANGE_POINTS     兑换积分\n",
      "15        EXCHANGE_PRICE     兑换金额\n",
      "16               CHANNEL     可用渠道\n",
      "17              SUPPLIER      供应商\n",
      "18        WRITE_OFF_TYPE     核销方式\n",
      "19              STORE_ID     门店信息\n",
      "20          BELONGS_AREA   权益所属地区\n",
      "21              USE_AREA  权益可使用地区\n",
      "22                  TYPE     权益状态\n",
      "23           DESCRIPTION     权益说明\n",
      "24                 ANNEX   权益说明附件\n",
      "25               REMARKS       备注\n",
      "26           ENABLE_TYPE     是否启用\n",
      "27            CREATED_BY      创建人\n",
      "28  CREATED_ORGANIZATION     创建机构\n",
      "29          CREATED_TIME     创建时间\n",
      "30    CREATED_DEPARTMENT     创建部门\n",
      "31          CREATED_TIME  创建/修改时间\n",
      "32         APPROVAL_TIME   审核通过时间\n",
      "33           APPROVAL_BY      审核人\n"
     ]
    }
   ],
   "source": [
    "sheet = pd.read_excel(filePath, sheet_name='外部权益信息表', header=3, usecols='b,d')\n",
    "# with pd.option_context('display.max_rows', None, 'display.max_columns', None):\n",
    "#     pass\n",
    "print(sheet)"
   ],
   "metadata": {
    "collapsed": false,
    "pycharm": {
     "name": "#%%\n"
    }
   }
  }
 ],
 "metadata": {
  "kernelspec": {
   "display_name": "Python 3",
   "language": "python",
   "name": "python3"
  },
  "language_info": {
   "codemirror_mode": {
    "name": "ipython",
    "version": 2
   },
   "file_extension": ".py",
   "mimetype": "text/x-python",
   "name": "python",
   "nbconvert_exporter": "python",
   "pygments_lexer": "ipython2",
   "version": "2.7.6"
  }
 },
 "nbformat": 4,
 "nbformat_minor": 0
}