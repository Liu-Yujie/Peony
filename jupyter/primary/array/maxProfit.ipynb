{
 "cells": [
  {
   "cell_type": "code",
   "execution_count": 1,
   "metadata": {
    "collapsed": true
   },
   "outputs": [
    {
     "name": "stdout",
     "output_type": "stream",
     "text": [
      "0\n",
      "4\n",
      "7\n"
     ]
    }
   ],
   "source": [
    "def maxProfit(prices):\n",
    "    \"\"\"\n",
    "    买卖股票的最佳时机 II\n",
    "    :param prices:\n",
    "    :return:\n",
    "    \"\"\"\n",
    "    if prices:\n",
    "        maxs = 0\n",
    "        for i in range(0,len(prices)-1):\n",
    "            if prices[i+1] > prices[i]:\n",
    "                maxs += prices[i+1] - prices[i]\n",
    "        return maxs\n",
    "    else:\n",
    "        return 0\n",
    "\n",
    "print(maxProfit([7,6,4,3,1]))\n",
    "print(maxProfit([1,2,3,4,5]))\n",
    "print(maxProfit([7,1,5,3,6,4]))"
   ]
  },
  {
   "cell_type": "code",
   "execution_count": 2,
   "outputs": [
    {
     "name": "stdout",
     "output_type": "stream",
     "text": [
      "0\n",
      "4\n",
      "7\n"
     ]
    }
   ],
   "source": [
    "def maxProfit(prices):\n",
    "    \"\"\"\n",
    "    买卖股票的最佳时机 II\n",
    "    :param prices:\n",
    "    :return:\n",
    "    \"\"\"\n",
    "    length = len(prices)\n",
    "    if prices and len(prices) > 1:\n",
    "        total = 0\n",
    "        index = 0\n",
    "        while index < length:\n",
    "            while index < length - 1 and prices[index] >= prices[index + 1]:\n",
    "                index += 1\n",
    "            mini = prices[index]\n",
    "            while index < length - 1 and prices[index] <= prices[index + 1]:\n",
    "                index += 1\n",
    "            total += prices[index] - mini\n",
    "            index += 1\n",
    "        return total\n",
    "    else:\n",
    "        return 0\n",
    "\n",
    "\n",
    "print(maxProfit([7,6,4,3,1]))\n",
    "print(maxProfit([1,2,3,4,5]))\n",
    "print(maxProfit([7,1,5,3,6,4]))"
   ],
   "metadata": {
    "collapsed": false,
    "pycharm": {
     "name": "#%%\n"
    }
   }
  },
  {
   "cell_type": "code",
   "execution_count": 3,
   "outputs": [
    {
     "name": "stdout",
     "output_type": "stream",
     "text": [
      "0\n",
      "4\n",
      "7\n"
     ]
    }
   ],
   "source": [
    "def maxProfit(prices):\n",
    "    \"\"\"\n",
    "    买卖股票的最佳时机 II\n",
    "    序列生成，计算前后差值为正的和\n",
    "    :param prices:\n",
    "    :return:\n",
    "    \"\"\"\n",
    "    return sum([prices[i+1]-prices[i] for i in range(len(prices)-1) if prices[i+1]-prices[i] > 0])\n",
    "\n",
    "\n",
    "print(maxProfit([7,6,4,3,1]))\n",
    "print(maxProfit([1,2,3,4,5]))\n",
    "print(maxProfit([7,1,5,3,6,4]))\n"
   ],
   "metadata": {
    "collapsed": false,
    "pycharm": {
     "name": "#%%\n"
    }
   }
  }
 ],
 "metadata": {
  "kernelspec": {
   "display_name": "Python 3",
   "language": "python",
   "name": "python3"
  },
  "language_info": {
   "codemirror_mode": {
    "name": "ipython",
    "version": 2
   },
   "file_extension": ".py",
   "mimetype": "text/x-python",
   "name": "python",
   "nbconvert_exporter": "python",
   "pygments_lexer": "ipython2",
   "version": "2.7.6"
  }
 },
 "nbformat": 4,
 "nbformat_minor": 0
}