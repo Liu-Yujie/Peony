{
 "cells": [
  {
   "cell_type": "code",
   "execution_count": 18,
   "metadata": {
    "collapsed": true
   },
   "outputs": [
    {
     "name": "stdout",
     "output_type": "stream",
     "text": [
      "5\n",
      "[0, 1, 2, 3, 4]\n"
     ]
    }
   ],
   "source": [
    "def removeDuplicates(nums):\n",
    "        \"\"\"\n",
    "        删除排序数组中的重复项\n",
    "        开始的使用用正序，发现相同的就删除\n",
    "        :type nums: List[int]\n",
    "        :rtype: int\n",
    "        \"\"\"\n",
    "        b = 0\n",
    "        if nums:\n",
    "            # b = 1\n",
    "            while b < len(nums):\n",
    "                end = b\n",
    "                for i in range(b, len(nums)):\n",
    "                    if nums[i] == nums[b]:\n",
    "                        end += 1\n",
    "                if end > b:\n",
    "                    b += 1\n",
    "                    del nums[b:end]\n",
    "        return b\n",
    "a = [0,0,1,1,1,2,2,3,3,4]\n",
    "# a = [1,1]\n",
    "b = removeDuplicates(a)\n",
    "print(b)\n",
    "print(a)"
   ]
  },
  {
   "cell_type": "code",
   "execution_count": 2,
   "outputs": [
    {
     "name": "stdout",
     "output_type": "stream",
     "text": [
      "9\n",
      "[0, 1, 1, 1, 2, 2, 3, 3, 4]\n"
     ]
    }
   ],
   "source": [
    "def removeDuplicates(nums):\n",
    "        \"\"\"\n",
    "        删除排序数组中的重复项\n",
    "        逆序删除（借鉴）\n",
    "        :type nums: List[int]\n",
    "        :rtype: int\n",
    "        \"\"\"\n",
    "        for i in range(len(nums) - 1, 0, -1):\n",
    "            if nums[i] == nums[i - 1]:\n",
    "                del nums[i]\n",
    "        return len(nums)\n",
    "a = [0,0,1,1,1,2,2,3,3,4]\n",
    "# a = [1,1]\n",
    "b = removeDuplicates(a)\n",
    "print(b)\n",
    "print(a)"
   ],
   "metadata": {
    "collapsed": false,
    "pycharm": {
     "name": "#%%\n"
    }
   }
  },
  {
   "cell_type": "code",
   "execution_count": 21,
   "outputs": [
    {
     "name": "stdout",
     "output_type": "stream",
     "text": [
      "5\n",
      "[0, 1, 2, 3, 4, 2, 2, 3, 3, 4]\n"
     ]
    }
   ],
   "source": [
    "def removeDuplicates(nums):\n",
    "    \"\"\"\n",
    "    删除排序数组中的重复项\n",
    "    :param nums:\n",
    "    :return:\n",
    "    \"\"\"\n",
    "    if nums:\n",
    "        start = 0\n",
    "        for end in range(1,len(nums)):\n",
    "            if nums[start] != nums[end]:\n",
    "                start += 1\n",
    "                nums[start] = nums[end]\n",
    "        return start + 1\n",
    "    else:\n",
    "        return 0\n",
    "a = [0,0,1,1,1,2,2,3,3,4]\n",
    "print(removeDuplicates(a))\n",
    "print(a)"
   ],
   "metadata": {
    "collapsed": false,
    "pycharm": {
     "name": "#%%\n"
    }
   }
  },
  {
   "cell_type": "code",
   "execution_count": 22,
   "outputs": [
    {
     "name": "stdout",
     "output_type": "stream",
     "text": [
      "0\n",
      "4\n",
      "7\n"
     ]
    }
   ],
   "source": [],
   "metadata": {
    "collapsed": false,
    "pycharm": {
     "name": "#%%\n"
    }
   }
  },
  {
   "cell_type": "code",
   "execution_count": null,
   "outputs": [],
   "source": [],
   "metadata": {
    "collapsed": false,
    "pycharm": {
     "name": "#%%\n"
    }
   }
  }
 ],
 "metadata": {
  "kernelspec": {
   "name": "python3",
   "language": "python",
   "display_name": "Python 3"
  },
  "language_info": {
   "codemirror_mode": {
    "name": "ipython",
    "version": 2
   },
   "file_extension": ".py",
   "mimetype": "text/x-python",
   "name": "python",
   "nbconvert_exporter": "python",
   "pygments_lexer": "ipython2",
   "version": "2.7.6"
  }
 },
 "nbformat": 4,
 "nbformat_minor": 0
}