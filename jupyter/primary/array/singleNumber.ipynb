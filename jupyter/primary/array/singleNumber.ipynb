{
 "cells": [
  {
   "cell_type": "code",
   "execution_count": null,
   "outputs": [],
   "source": [
    "\"\"\"\n",
    "给定一个非空整数数组，除了某个元素只出现一次以外，其余每个元素均出现两次。找出那个只出现了一次的元素。\n",
    "\n",
    "说明：\n",
    "\n",
    "你的算法应该具有线性时间复杂度。 你可以不使用额外空间来实现吗\n",
    "\n",
    "作者：力扣 (LeetCode)\n",
    "链接：https://leetcode-cn.com/leetbook/read/top-interview-questions-easy/x21ib6/\n",
    "来源：力扣（LeetCode）\n",
    "著作权归作者所有。商业转载请联系作者获得授权，非商业转载请注明出处。\n",
    "\"\"\"\n",
    "def singleNumber(nums):\n",
    "    nums.sort()\n",
    "    for i in range(0,len(nums),2):\n",
    "        if nums[i]\n",
    "    pass\n"
   ],
   "metadata": {
    "collapsed": false,
    "pycharm": {
     "name": "#%%\n"
    }
   }
  },
  {
   "cell_type": "code",
   "execution_count": 3,
   "outputs": [
    {
     "name": "stdout",
     "output_type": "stream",
     "text": [
      "[40, 50]\n",
      "[10, 40, 50, 60]\n",
      "[10, 60]\n"
     ]
    }
   ],
   "source": [
    "lst = [10,40,50,60]\n",
    "new_lst = lst[1:3]\n",
    "print(new_lst)\n",
    "print(lst)\n",
    "lst[1:3] = []\n",
    "print(lst)\n",
    "\n"
   ],
   "metadata": {
    "collapsed": false,
    "pycharm": {
     "name": "#%%\n"
    }
   }
  },
  {
   "cell_type": "code",
   "execution_count": 5,
   "outputs": [
    {
     "name": "stdout",
     "output_type": "stream",
     "text": [
      "[2, 3, 451, 21, 5412, 54, 34]\n",
      "[2, 3, 21, 34, 54, 451, 5412]\n"
     ]
    }
   ],
   "source": [
    "a = [2,3,451,21,5412,54,34]\n",
    "b = sorted(a)\n",
    "print(a)\n",
    "print(b)\n",
    "\n",
    "\n"
   ],
   "metadata": {
    "collapsed": false,
    "pycharm": {
     "name": "#%%\n"
    }
   }
  },
  {
   "cell_type": "code",
   "execution_count": 31,
   "outputs": [
    {
     "name": "stdout",
     "output_type": "stream",
     "text": [
      "[451, 21, 5412]\n",
      "[5412, 21]\n",
      "[2, 451, 5412, 34]\n",
      "[3, 21, 54]\n",
      "[3, 21, 54]\n"
     ]
    }
   ],
   "source": [
    "lst = [2,3,451,21,5412,54,34]\n",
    "print(lst[2:5:])\n",
    "print(lst[4:2:-1])\n",
    "print(lst[::2])\n",
    "print(lst[1::2])\n",
    "print(lst[1::2])"
   ],
   "metadata": {
    "collapsed": false,
    "pycharm": {
     "name": "#%%\n"
    }
   }
  },
  {
   "cell_type": "code",
   "execution_count": 35,
   "outputs": [
    {
     "name": "stdout",
     "output_type": "stream",
     "text": [
      "[3, 451]\n"
     ]
    }
   ],
   "source": [
    "lst = [2,3,451,21,5412,54,34]\n",
    "print(lst[1:3:])\n",
    "# lst[1:3:]=[]\n",
    "lst.insert(4,5)"
   ],
   "metadata": {
    "collapsed": false,
    "pycharm": {
     "name": "#%%\n"
    }
   }
  }
 ],
 "metadata": {
  "kernelspec": {
   "display_name": "Python 3",
   "language": "python",
   "name": "python3"
  },
  "language_info": {
   "codemirror_mode": {
    "name": "ipython",
    "version": 2
   },
   "file_extension": ".py",
   "mimetype": "text/x-python",
   "name": "python",
   "nbconvert_exporter": "python",
   "pygments_lexer": "ipython2",
   "version": "2.7.6"
  }
 },
 "nbformat": 4,
 "nbformat_minor": 0
}